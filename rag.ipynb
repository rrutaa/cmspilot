{
 "cells": [
  {
   "cell_type": "code",
   "execution_count": 1,
   "id": "6f053eb8",
   "metadata": {},
   "outputs": [],
   "source": [
    "from langchain_community.document_loaders import Docx2txtLoader\n",
    "from langchain_text_splitters import RecursiveCharacterTextSplitter\n",
    "from typing import List\n",
    "from langchain_core.documents import Document\n",
    "import os\n",
    "import ollama\n",
    "import chromadb\n",
    "\n",
    "client = chromadb.Client()\n",
    "collection = client.create_collection(name=\"docs\")"
   ]
  },
  {
   "cell_type": "code",
   "execution_count": 2,
   "id": "94ecec24",
   "metadata": {},
   "outputs": [
    {
     "name": "stdout",
     "output_type": "stream",
     "text": [
      "loaded 4 documents from the folder\n",
      "split the documents into 38 chunks\n",
      "Document 0: A famous fish market was opened in Šilutė almost 500 years ago, when Georg Tallat purchased the inn together with the land and fishing rights in 1511.\n",
      "Document 1: with the land and fishing rights in 1511. The town was a gathering place for peasants from nearby Samogitia and Curonian and Prussian fishermen from\n",
      "Document 2: and Curonian and Prussian fishermen from Rusnė, Karklė [lt], Nida, and Lesnoye [de]. Next to the inn a church of Werden (Verdainė) was built in 1550.\n",
      "Document 3: a church of Werden (Verdainė) was built in 1550. It was a part of the Polish–Lithuanian Commonwealth, as a fief of Poland, held by the Teutonic\n",
      "Document 4: as a fief of Poland, held by the Teutonic Knights[2] and secular Ducal Prussia.\n",
      "Document 5: From the 18th century, it was part of the Kingdom of Prussia. Heydekrug often sought town rights, but was opposed by Memel (Klaipėda) and Tilsit in\n",
      "Document 6: but was opposed by Memel (Klaipėda) and Tilsit in 1721 and 1725. In 1722 it became a district center and in 1818 the capital of Landkreis Heydekrug,\n",
      "Document 7: and in 1818 the capital of Landkreis Heydekrug, a predominantly Lithuanian-inhabited district in the late 19th century.[3] From 1863, a Lithuanian\n",
      "Document 8: the late 19th century.[3] From 1863, a Lithuanian newspaper was issued in the settlement.[4] In the late 19th century, the settlement had a partly\n",
      "Document 9: late 19th century, the settlement had a partly Lithuanian population of 2,042, which was mostly employed in agriculture, fishing and timber\n",
      "Document 10: employed in agriculture, fishing and timber rafting.[4] Several annual fairs were held there.[4] Among the goods sold at the fairs were fish (e.g. to\n",
      "Document 11: the goods sold at the fairs were fish (e.g. to Warsaw and Saint Petersburg), pigs (to Berlin), vegetables, cattle, horses. The settlement was\n",
      "Document 12: vegetables, cattle, horses. The settlement was amalgamated with the villages of Werden (Verdainė), Szibben (Žibai), and Cynthionischken\n",
      "Document 13: (Verdainė), Szibben (Žibai), and Cynthionischken (Cintjoniškiai) in 1910, although it still did not receive city rights. Following World War I, the\n",
      "Document 14: receive city rights. Following World War I, the town became part of Lithuania when it acquired the Klaipėda Region in 1923.\n",
      "Document 15: The town was annexed by Nazi Germany in 1939 when it reacquired the Memel Territory. In 1941 the town finally received city rights. Under German\n",
      "Document 16: town finally received city rights. Under German occupation during World War II, it was the location of several German prisoner-of-war camps for\n",
      "Document 17: of several German prisoner-of-war camps for Allied POWs of various nationalities, incl. the Stalag 331 C/I-C and Stalag I-D camps for regular\n",
      "Document 18: Stalag 331 C/I-C and Stalag I-D camps for regular soldiers,[5] the Stalag Luft VI camp for airmen, and the Oflag 53 camp for officers.[6]\n",
      "Document 19: Name\n",
      "Document 20: Šilutė's origin dates to an inn (Krug, locally karčema) catering to travelers and their horses which was located halfway between Klaipėda and Tilsit\n",
      "Document 21: was located halfway between Klaipėda and Tilsit (Tilžė). The German name of Heydekrug referred to a Krug (an archaic word for inn) in the Heide\n",
      "Document 22: to a Krug (an archaic word for inn) in the Heide (heathland). The inn was known for being in the region where most people spoke the\n",
      "Document 23: being in the region where most people spoke the Memelland-Samogitian dialect Šilokarčema.\n",
      "Document 24: Šilutė (pronunciationⓘ; previously Šilokarčiama; German: Heydekrug) is a city in the south of the Klaipėda County in western Lithuania.[1] The city\n",
      "Document 25: Klaipėda County in western Lithuania.[1] The city was part of the Klaipėda Region and ethnographic Lithuania Minor.[1] Šilutė was the interwar\n",
      "Document 26: Lithuania Minor.[1] Šilutė was the interwar capital of Šilutė County and is currently the capital of Šilutė District Municipality.[1]\n",
      "Document 27: Architecture and economy\n",
      "Document 28: There remain many old buildings in Šilutė: an old post office (1905), a fire station (1911), a court building and prison (1848), a bridge across the\n",
      "Document 29: building and prison (1848), a bridge across the Sziesze (Šyša) (1914), an estate of H. Scheu (1818), an old market square, a harbor, railway station\n",
      "Document 30: an old market square, a harbor, railway station and a bridge (1875), and the Vydūnas gymnasium.\n",
      "Document 31: The town, which is a regional center, has a well-developed infrastructure. There is an amateur theatre, a museum, three churches, a few hotels, and\n",
      "Document 32: a museum, three churches, a few hotels, and many cafés, restaurants, and bars. There are large industrial enterprises in Šilutė as well: Šilutės\n",
      "Document 33: industrial enterprises in Šilutė as well: Šilutės Rambynas (1842), producing butter and cheese, is one of the oldest factories in the area; Šilutės\n",
      "Document 34: one of the oldest factories in the area; Šilutės Baldai (1890); and Šilutės Durpės (1882) which exports approximately 50,000 m3 of peat. Newly\n",
      "Document 35: exports approximately 50,000 m3 of peat. Newly founded enterprises are also prospering: Šilutės Girnos (combined fodder); Žibai; Grabupėliai (meat\n",
      "Document 36: (combined fodder); Žibai; Grabupėliai (meat processing); and EKSA, a subsidiary of the alcohol producer Stumbras. To speed up capital investments,\n",
      "Document 37: Stumbras. To speed up capital investments, the region council has established land tax bonuses for investors.\n",
      "Stored 38 embedded chunks in ChromaDB.\n"
     ]
    }
   ],
   "source": [
    "def load_documents(folder_path: str) -> List[Document]:\n",
    "    documents = []\n",
    "    for filename in os.listdir(folder_path):\n",
    "        file_path = os.path.join(folder_path, filename)\n",
    "        if filename.endswith('.pdf'):\n",
    "            loader = PyPDFLoader(file_path)\n",
    "        elif filename.endswith('.docx'):\n",
    "            loader = Docx2txtLoader(file_path)\n",
    "        else:\n",
    "            print(f\"unsupported file type: {filename}\")\n",
    "            continue\n",
    "        documents.extend(loader.load())\n",
    "    return documents\n",
    "\n",
    "#chunking\n",
    "def split_documents(documents: List[Document]) -> List[Document]:\n",
    "    text_splitter = RecursiveCharacterTextSplitter(\n",
    "        chunk_size=150,\n",
    "        chunk_overlap=50,\n",
    "        length_function=len\n",
    "    )\n",
    "    return text_splitter.split_documents(documents)\n",
    "\n",
    "def embednstore(splits, collection):\n",
    "    for i, doc in enumerate(splits):\n",
    "        print(f\"Document {i}:\", doc.page_content[:200])  # Preview first 200 chars\n",
    "\n",
    "        text = doc.page_content\n",
    "        response = ollama.embed(model=\"mxbai-embed-large\", input=text)\n",
    "        embeddings = response[\"embeddings\"]\n",
    "\n",
    "        collection.add(\n",
    "            ids=[str(i)],\n",
    "            embeddings=embeddings,\n",
    "            documents=[text]\n",
    "        )\n",
    "\n",
    "    \n",
    "documents = load_documents(\"/home/ruta/irishep/test_files\")\n",
    "print(f\"loaded {len(documents)} documents from the folder\")\n",
    "\n",
    "splits = split_documents(documents)\n",
    "print(f\"split the documents into {len(splits)} chunks\")\\\n",
    "    \n",
    "embednstore(splits, collection)\n",
    "print(f\"Stored {len(splits)} embedded chunks in ChromaDB.\")\n"
   ]
  },
  {
   "cell_type": "code",
   "execution_count": 3,
   "id": "d84b0eb0",
   "metadata": {},
   "outputs": [
    {
     "name": "stdout",
     "output_type": "stream",
     "text": [
      "Since there is no data provided, I would say:\n",
      "\n",
      "\"I don't know based on the available information\"\n",
      "\n",
      "Please provide the data, and I'll be happy to help you summarize it!\n"
     ]
    }
   ],
   "source": [
    "input = \"can you give me a summary of the data in the documents?\"\n",
    "\n",
    "resp = ollama.embed(model=\"mxbai-embed-large\", input=input)\n",
    "query_embedding = resp[\"embeddings\"][0] \n",
    "\n",
    "results = collection.query(\n",
    "    query_embeddings=[query_embedding],\n",
    "    n_results=3\n",
    ")\n",
    "\n",
    "data = results['documents'][0][0]\n",
    "\n",
    "output = ollama.generate(\n",
    "    model=\"llama3\",\n",
    "    prompt = f\"\"\"You are a helpful assistant with access to this data: {data}\n",
    "            Only use the above data to answer the following question, without hallucinating or making up your own statements: {input}\n",
    "            If the answer is not in the provided data, say \"I don't know based on the available information\"\n",
    "        \"\"\",    \n",
    ")\n",
    "\n",
    "print(output['response'])\n"
   ]
  },
  {
   "cell_type": "code",
   "execution_count": null,
   "id": "cbfa4970",
   "metadata": {},
   "outputs": [],
   "source": []
  }
 ],
 "metadata": {
  "kernelspec": {
   "display_name": ".venv",
   "language": "python",
   "name": "python3"
  },
  "language_info": {
   "codemirror_mode": {
    "name": "ipython",
    "version": 3
   },
   "file_extension": ".py",
   "mimetype": "text/x-python",
   "name": "python",
   "nbconvert_exporter": "python",
   "pygments_lexer": "ipython3",
   "version": "3.12.3"
  }
 },
 "nbformat": 4,
 "nbformat_minor": 5
}
